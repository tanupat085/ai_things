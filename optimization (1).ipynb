{
  "cells": [
    {
      "cell_type": "code",
      "execution_count": null,
      "metadata": {
        "id": "139hTH3jELYd"
      },
      "outputs": [],
      "source": [
        "from numpy import *\n",
        "import matplotlib.pyplot as plt\n",
        "\n",
        "x = arange(0, 10, 0.1)\n",
        "x = expand_dims(x, 1)\n",
        "noise = 2*random.randn(*x.shape)\n",
        "y = 5*x+10 + noise\n",
        "\n",
        "points = concatenate((x,y), axis=1)\n",
        "\n",
        "\n",
        "# y = mx + b\n",
        "# m is slope, b is y-intercept\n",
        "def compute_error_for_line_given_points(b, m, points):\n",
        "    totalError = 0\n",
        "    for i in range(0, len(points)):\n",
        "        x = points[i, 0]\n",
        "        y = points[i, 1]\n",
        "        totalError += (y - (m * x + b)) ** 2\n",
        "    return totalError / float(len(points))\n",
        "\n",
        "def step_gradient(b_current, m_current, points, learningRate):\n",
        "    b_gradient = 0\n",
        "    m_gradient = 0\n",
        "    N = float(len(points))\n",
        "    for i in range(0, len(points)):\n",
        "        x = points[i, 0]\n",
        "        y = points[i, 1]\n",
        "        b_gradient += -(2/N) * ((y - ((m_current * x) + b_current)))\n",
        "        m_gradient += -(2/N) * (x * (y - ((m_current * x) + b_current)))\n",
        "    new_b = b_current - (learningRate * b_gradient)\n",
        "    new_m = m_current - (learningRate * m_gradient)\n",
        "    return [new_b, new_m]\n",
        "\n",
        "def gradient_descent_runner(points, starting_b, starting_m, learning_rate, \n",
        "                            num_iterations):\n",
        "    b = starting_b\n",
        "    m = starting_m\n",
        "    loss = []\n",
        "    for i in range(num_iterations):\n",
        "        b, m = step_gradient(b, m, array(points), learning_rate)\n",
        "        loss.append(compute_error_for_line_given_points(b, m, points))\n",
        "\n",
        "    return b, m, loss\n",
        "\n",
        "def run():\n",
        "    initial_b = ... # initial y-intercept guess\n",
        "    initial_m = ... #initial slope guess\n",
        "    learning_rate = ... # learning rate \n",
        "    num_iterations = ... # number of iteration, epoch \n",
        "    print(\"Starting gradient descent at b = {0}, m = {1}, error = {2}\".format(initial_b, initial_m, \n",
        "    compute_error_for_line_given_points(initial_b, initial_m, points)))\n",
        "    print(\"Running...\")\n",
        "    b, m , loss = gradient_descent_runner(points, initial_b, initial_m, learning_rate, num_iterations)\n",
        "    print(\"After {0} iterations b = {1}, m = {2}, error = {3}\".format(\n",
        "        num_iterations, b, m, compute_error_for_line_given_points(b, m, points)))\n",
        "    return b, m, loss"
      ]
    },
    {
      "cell_type": "markdown",
      "metadata": {
        "id": "0iKQfc_HEJTf"
      },
      "source": [
        "# ส่วนใหม่"
      ]
    },
    {
      "cell_type": "code",
      "execution_count": null,
      "metadata": {
        "colab": {
          "base_uri": "https://localhost:8080/"
        },
        "id": "PEyMMSGgEAl-",
        "outputId": "4f488c75-93a7-4e86-f615-a49589ce6123"
      },
      "outputs": [
        {
          "output_type": "stream",
          "name": "stdout",
          "text": [
            "Starting gradient descent at b = 0, m = 0, error = 1415.3867046904923\n",
            "Running...\n",
            "After 300 iterations b = 7.268361299196027, m = 5.4146907990674125, error = 4.402769142325258\n",
            "300\n"
          ]
        }
      ],
      "source": [
        "b, m, loss = run()\n",
        "print(len(loss))"
      ]
    },
    {
      "cell_type": "code",
      "execution_count": null,
      "metadata": {
        "colab": {
          "base_uri": "https://localhost:8080/",
          "height": 265
        },
        "id": "bQgfwU3REk9C",
        "outputId": "d6549863-a4b0-406c-aa35-8c11515eeb4d"
      },
      "outputs": [
        {
          "output_type": "display_data",
          "data": {
            "text/plain": [
              "<Figure size 432x288 with 1 Axes>"
            ],
            "image/png": "[encoded data removed]"
          },
          "metadata": {
            "needs_background": "light"
          }
        }
      ],
      "source": [
        "plt.plot(x,y,'bo')\n",
        "plt.plot(x, m*x+b,'r')\n",
        "plt.show()"
      ]
    },
    {
      "cell_type": "code",
      "execution_count": null,
      "metadata": {
        "colab": {
          "base_uri": "https://localhost:8080/",
          "height": 265
        },
        "id": "xGE3xpHxOMxQ",
        "outputId": "798963c6-80ba-4c74-8646-4cebae51d528"
      },
      "outputs": [
        {
          "output_type": "display_data",
          "data": {
            "text/plain": [
              "<Figure size 432x288 with 1 Axes>"
            ],
            "image/png": "[encoded data removed]"
          },
          "metadata": {
            "needs_background": "light"
          }
        }
      ],
      "source": [
        "# plt.plot(arange(len(loss)), loss)\n",
        "plt.plot(arange(10), loss[:10])\n",
        "plt.show()\n"
      ]
    }
  ],
  "metadata": {
    "colab": {
      "collapsed_sections": [],
      "name": "optimization.ipynb",
      "provenance": []
    },
    "kernelspec": {
      "display_name": "Python 3",
      "name": "python3"
    }
  },
  "nbformat": 4,
  "nbformat_minor": 0
}